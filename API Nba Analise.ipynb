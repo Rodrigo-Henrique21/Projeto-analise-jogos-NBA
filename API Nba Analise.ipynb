{
 "cells": [
  {
   "cell_type": "markdown",
   "id": "b5f9fcb5",
   "metadata": {},
   "source": [
    "### ANALISE NBA ###"
   ]
  },
  {
   "cell_type": "code",
   "execution_count": 94,
   "id": "99700515",
   "metadata": {},
   "outputs": [],
   "source": [
    "#Import das bibliotecas\n",
    "\n",
    "import requests \n",
    "import json\n",
    "import pandas as pd\n",
    "import datetime as dt\n",
    "import time\n",
    "import os \n",
    "import azure.storage.blob\n",
    "from datetime import datetime\n",
    "from azure.storage.blob import PublicAccess, ContainerClient, BlobServiceClient\n",
    "\n",
    "\n",
    "global blob_texts\n",
    "blob_texts = {}"
   ]
  },
  {
   "cell_type": "code",
   "execution_count": 95,
   "id": "1816d132",
   "metadata": {},
   "outputs": [],
   "source": [
    "# Definindo URL base\n",
    "\n",
    "url_base = 'http://data.nba.net/prod/v1/today.json'\n",
    "url_incio = 'http://data.nba.net'"
   ]
  },
  {
   "cell_type": "code",
   "execution_count": 96,
   "id": "5afc51be",
   "metadata": {},
   "outputs": [
    {
     "name": "stdout",
     "output_type": "stream",
     "text": [
      "<Response [200]>\n",
      "{'_internal': {'pubDateTime': '2022-09-23 12:00:51.348 EDT', 'igorPath': 'cron,1663948849779,1663948849779|router,1663948849779,1663948849866|domUpdater,1663948849970,1663948850945|feedProducer,1663948851037,1663948852086', 'xslt': 'NBA/xsl/league/schedule/marty_today.xsl', 'xsltForceRecompile': 'true', 'xsltInCache': 'false', 'xsltCompileTimeMillis': '94', 'xsltTransformTimeMillis': '177', 'consolidatedDomKey': 'prod__transform__marty_today__759284170243', 'endToEndTimeMillis': '2307'}, 'teamSitesOnly': {'seasonStage': 2, 'seasonYear': 2022, 'rosterYear': 2022, 'statsStage': 2, 'statsYear': 2022, 'displayYear': '2022-23', 'lastPlayByPlay': '/json/cms/noseason/game/{{gameDate}}/{{gameId}}/pbp_last.json', 'allPlayByPlay': '/data/10s/json/cms/noseason/game/{{gameDate}}/{{gameId}}/pbp_all.json', 'playerMatchup': '/data/10s/json/cms/2022/game/{{gameDate}}/{{gameId}}/playersPerGame.json', 'series': '/data/5s/json/cms/2022/regseason/team/{{teamUrlCode}}/series.json'}, 'seasonScheduleYear': 2022, 'showPlayoffsClinch': True, 'links': {'anchorDate': '20220923', 'currentDate': '20220923', 'calendar': '/prod/v1/calendar.json', 'todayScoreboard': '/prod/v1/20220923/scoreboard.json', 'currentScoreboard': '/prod/v1/20220923/scoreboard.json', 'teams': '/prod/v2/2022/teams.json', 'scoreboard': '/prod/v2/{{gameDate}}/scoreboard.json', 'leagueRosterPlayers': '/prod/v1/2022/players.json', 'allstarRoster': '/prod/v1/allstar/2018/AS_roster.json', 'leagueRosterCoaches': '/prod/v1/2022/coaches.json', 'leagueSchedule': '/prod/v1/2022/schedule.json', 'leagueConfStandings': '/prod/v1/current/standings_conference.json', 'leagueDivStandings': '/prod/v1/current/standings_division.json', 'leagueUngroupedStandings': '/prod/v1/current/standings_all.json', 'leagueMiniStandings': '/prod/v1/current/standings_all_no_sort_keys.json', 'leagueTeamStatsLeaders': '/prod/v1/2022/team_stats_rankings.json', 'leagueLastFiveGameTeamStats': '/prod/v1/2022/team_stats_last_five_games.json', 'previewArticle': '/prod/v1/{{gameDate}}/{{gameId}}_preview_article.json', 'recapArticle': '/prod/v1/{{gameDate}}/{{gameId}}_recap_article.json', 'gameBookPdf': '/prod/v1/{{gameDate}}/{{gameId}}_Book.pdf', 'boxscore': '/prod/v1/{{gameDate}}/{{gameId}}_boxscore.json', 'miniBoxscore': '/prod/v1/{{gameDate}}/{{gameId}}_mini_boxscore.json', 'pbp': '/prod/v1/{{gameDate}}/{{gameId}}_pbp_{{periodNum}}.json', 'leadTracker': '/prod/v1/{{gameDate}}/{{gameId}}_lead_tracker_{{periodNum}}.json', 'playerGameLog': '/prod/v1/2022/players/{{personId}}_gamelog.json', 'playerProfile': '/prod/v1/2022/players/{{personId}}_profile.json', 'playerUberStats': '/prod/v1/2022/players/{{personId}}_uber_stats.json', 'teamSchedule': '/prod/v1/2022/teams/{{teamUrlCode}}/schedule.json', 'teamsConfig': '/prod/2022/teams_config.json', 'teamRoster': '/prod/v1/2022/teams/{{teamUrlCode}}/roster.json', 'teamsConfigYear': '/prod/{{seasonScheduleYear}}/teams_config.json', 'teamScheduleYear': '/prod/v1/{{seasonScheduleYear}}/teams/{{teamUrlCode}}/schedule.json', 'teamLeaders': '/prod/v1/2022/teams/{{teamUrlCode}}/leaders.json', 'teamScheduleYear2': '/prod/v1/{{seasonScheduleYear}}/teams/{{teamId}}/schedule.json', 'teamLeaders2': '/prod/v1/2022/teams/{{teamId}}/leaders.json', 'teamICS': '/prod/teams/schedules/2022/{{teamUrlCode}}_home_schedule.ics', 'teamICS2': '/prod/teams/schedules/2022/{{teamUrlCode}}_schedule.ics', 'playoffsBracket': '/prod/v1/2019/playoffsBracket.json', 'playoffSeriesLeaders': '/prod/v1/2019/playoffs_{{seriesId}}_leaders.json', 'universalLinkMapping': 'https://www.nba.com/mobile/apps/configs/prod/universalLinkMapping.json', 'ticketLink': 'https://a.data.nba.com/tickets/single/{{seasonScheduleYear}}/{{gameId}}/{{trackingId}}'}}\n"
     ]
    }
   ],
   "source": [
    "# Realizando a requisição na API \n",
    "\n",
    "requisicao = requests.get(url_base,timeout = 15)\n",
    "\n",
    "# Verificando retorno\n",
    "print(requisicao)\n",
    "\n",
    "# Transformando para json \n",
    "resposta = requisicao.json()\n",
    "\n",
    "# Verificando as chaves do retorno em json\n",
    "chaves = resposta.keys()\n",
    "\n",
    "# Verificando dados\n",
    "print(resposta)"
   ]
  },
  {
   "cell_type": "code",
   "execution_count": 97,
   "id": "7697b699",
   "metadata": {},
   "outputs": [
    {
     "data": {
      "text/plain": [
       "'/prod/v1/20220923/scoreboard.json'"
      ]
     },
     "execution_count": 97,
     "metadata": {},
     "output_type": "execute_result"
    }
   ],
   "source": [
    "# Capturando os links\n",
    "def captura_link():\n",
    "    for i in resposta:\n",
    "        links = resposta['links']['currentScoreboard']\n",
    "        return links\n",
    "captura_link()"
   ]
  },
  {
   "cell_type": "code",
   "execution_count": 98,
   "id": "9c51593a",
   "metadata": {},
   "outputs": [
    {
     "name": "stdout",
     "output_type": "stream",
     "text": [
      "/prod/v2/2022/teams.json\n",
      "[{'isNBAFranchise': False, 'isAllStar': False, 'city': 'Adelaide', 'altCityName': 'Adelaide', 'fullName': 'Adelaide 36ers', 'tricode': 'ADL', 'teamId': '15019', 'nickname': '36ers', 'urlName': '36ers', 'teamShortName': 'Adelaide', 'confName': 'Intl', 'divName': ''}, {'isNBAFranchise': True, 'isAllStar': False, 'city': 'Atlanta', 'altCityName': 'Atlanta', 'fullName': 'Atlanta Hawks', 'tricode': 'ATL', 'teamId': '1610612737', 'nickname': 'Hawks', 'urlName': 'hawks', 'teamShortName': 'Atlanta', 'confName': 'East', 'divName': 'Southeast'}, {'isNBAFranchise': True, 'isAllStar': False, 'city': 'Boston', 'altCityName': 'Boston', 'fullName': 'Boston Celtics', 'tricode': 'BOS', 'teamId': '1610612738', 'nickname': 'Celtics', 'urlName': 'celtics', 'teamShortName': 'Boston', 'confName': 'East', 'divName': 'Atlantic'}, {'isNBAFranchise': True, 'isAllStar': False, 'city': 'Brooklyn', 'altCityName': 'Brooklyn', 'fullName': 'Brooklyn Nets', 'tricode': 'BKN', 'teamId': '1610612751', 'nickname': 'Nets', 'urlName': 'nets', 'teamShortName': 'Brooklyn', 'confName': 'East', 'divName': 'Atlantic'}, {'isNBAFranchise': True, 'isAllStar': False, 'city': 'Charlotte', 'altCityName': 'Charlotte', 'fullName': 'Charlotte Hornets', 'tricode': 'CHA', 'teamId': '1610612766', 'nickname': 'Hornets', 'urlName': 'hornets', 'teamShortName': 'Charlotte', 'confName': 'East', 'divName': 'Southeast'}, {'isNBAFranchise': True, 'isAllStar': False, 'city': 'Chicago', 'altCityName': 'Chicago', 'fullName': 'Chicago Bulls', 'tricode': 'CHI', 'teamId': '1610612741', 'nickname': 'Bulls', 'urlName': 'bulls', 'teamShortName': 'Chicago', 'confName': 'East', 'divName': 'Central'}, {'isNBAFranchise': True, 'isAllStar': False, 'city': 'Cleveland', 'altCityName': 'Cleveland', 'fullName': 'Cleveland Cavaliers', 'tricode': 'CLE', 'teamId': '1610612739', 'nickname': 'Cavaliers', 'urlName': 'cavaliers', 'teamShortName': 'Cleveland', 'confName': 'East', 'divName': 'Central'}, {'isNBAFranchise': True, 'isAllStar': False, 'city': 'Dallas', 'altCityName': 'Dallas', 'fullName': 'Dallas Mavericks', 'tricode': 'DAL', 'teamId': '1610612742', 'nickname': 'Mavericks', 'urlName': 'mavericks', 'teamShortName': 'Dallas', 'confName': 'West', 'divName': 'Southwest'}, {'isNBAFranchise': True, 'isAllStar': False, 'city': 'Denver', 'altCityName': 'Denver', 'fullName': 'Denver Nuggets', 'tricode': 'DEN', 'teamId': '1610612743', 'nickname': 'Nuggets', 'urlName': 'nuggets', 'teamShortName': 'Denver', 'confName': 'West', 'divName': 'Northwest'}, {'isNBAFranchise': True, 'isAllStar': False, 'city': 'Detroit', 'altCityName': 'Detroit', 'fullName': 'Detroit Pistons', 'tricode': 'DET', 'teamId': '1610612765', 'nickname': 'Pistons', 'urlName': 'pistons', 'teamShortName': 'Detroit', 'confName': 'East', 'divName': 'Central'}, {'isNBAFranchise': True, 'isAllStar': False, 'city': 'Golden State', 'altCityName': 'Golden State', 'fullName': 'Golden State Warriors', 'tricode': 'GSW', 'teamId': '1610612744', 'nickname': 'Warriors', 'urlName': 'warriors', 'teamShortName': 'Golden State', 'confName': 'West', 'divName': 'Pacific'}, {'isNBAFranchise': True, 'isAllStar': False, 'city': 'Houston', 'altCityName': 'Houston', 'fullName': 'Houston Rockets', 'tricode': 'HOU', 'teamId': '1610612745', 'nickname': 'Rockets', 'urlName': 'rockets', 'teamShortName': 'Houston', 'confName': 'West', 'divName': 'Southwest'}, {'isNBAFranchise': True, 'isAllStar': False, 'city': 'Indiana', 'altCityName': 'Indiana', 'fullName': 'Indiana Pacers', 'tricode': 'IND', 'teamId': '1610612754', 'nickname': 'Pacers', 'urlName': 'pacers', 'teamShortName': 'Indiana', 'confName': 'East', 'divName': 'Central'}, {'isNBAFranchise': True, 'isAllStar': False, 'city': 'LA', 'altCityName': 'LA Clippers', 'fullName': 'LA Clippers', 'tricode': 'LAC', 'teamId': '1610612746', 'nickname': 'Clippers', 'urlName': 'clippers', 'teamShortName': 'LA Clippers', 'confName': 'West', 'divName': 'Pacific'}, {'isNBAFranchise': True, 'isAllStar': False, 'city': 'Los Angeles', 'altCityName': 'Los Angeles Lakers', 'fullName': 'Los Angeles Lakers', 'tricode': 'LAL', 'teamId': '1610612747', 'nickname': 'Lakers', 'urlName': 'lakers', 'teamShortName': 'L.A. Lakers', 'confName': 'West', 'divName': 'Pacific'}, {'isNBAFranchise': True, 'isAllStar': False, 'city': 'Memphis', 'altCityName': 'Memphis', 'fullName': 'Memphis Grizzlies', 'tricode': 'MEM', 'teamId': '1610612763', 'nickname': 'Grizzlies', 'urlName': 'grizzlies', 'teamShortName': 'Memphis', 'confName': 'West', 'divName': 'Southwest'}, {'isNBAFranchise': True, 'isAllStar': False, 'city': 'Miami', 'altCityName': 'Miami', 'fullName': 'Miami Heat', 'tricode': 'MIA', 'teamId': '1610612748', 'nickname': 'Heat', 'urlName': 'heat', 'teamShortName': 'Miami', 'confName': 'East', 'divName': 'Southeast'}, {'isNBAFranchise': True, 'isAllStar': False, 'city': 'Milwaukee', 'altCityName': 'Milwaukee', 'fullName': 'Milwaukee Bucks', 'tricode': 'MIL', 'teamId': '1610612749', 'nickname': 'Bucks', 'urlName': 'bucks', 'teamShortName': 'Milwaukee', 'confName': 'East', 'divName': 'Central'}, {'isNBAFranchise': True, 'isAllStar': False, 'city': 'Minnesota', 'altCityName': 'Minnesota', 'fullName': 'Minnesota Timberwolves', 'tricode': 'MIN', 'teamId': '1610612750', 'nickname': 'Timberwolves', 'urlName': 'timberwolves', 'teamShortName': 'Minnesota', 'confName': 'West', 'divName': 'Northwest'}, {'isNBAFranchise': True, 'isAllStar': False, 'city': 'New Orleans', 'altCityName': 'New Orleans', 'fullName': 'New Orleans Pelicans', 'tricode': 'NOP', 'teamId': '1610612740', 'nickname': 'Pelicans', 'urlName': 'pelicans', 'teamShortName': 'New Orleans', 'confName': 'West', 'divName': 'Southwest'}, {'isNBAFranchise': True, 'isAllStar': False, 'city': 'New York', 'altCityName': 'New York', 'fullName': 'New York Knicks', 'tricode': 'NYK', 'teamId': '1610612752', 'nickname': 'Knicks', 'urlName': 'knicks', 'teamShortName': 'New York', 'confName': 'East', 'divName': 'Atlantic'}, {'isNBAFranchise': True, 'isAllStar': False, 'city': 'Oklahoma City', 'altCityName': 'Oklahoma City', 'fullName': 'Oklahoma City Thunder', 'tricode': 'OKC', 'teamId': '1610612760', 'nickname': 'Thunder', 'urlName': 'thunder', 'teamShortName': 'Oklahoma City', 'confName': 'West', 'divName': 'Northwest'}, {'isNBAFranchise': True, 'isAllStar': False, 'city': 'Orlando', 'altCityName': 'Orlando', 'fullName': 'Orlando Magic', 'tricode': 'ORL', 'teamId': '1610612753', 'nickname': 'Magic', 'urlName': 'magic', 'teamShortName': 'Orlando', 'confName': 'East', 'divName': 'Southeast'}, {'isNBAFranchise': True, 'isAllStar': False, 'city': 'Philadelphia', 'altCityName': 'Philadelphia', 'fullName': 'Philadelphia 76ers', 'tricode': 'PHI', 'teamId': '1610612755', 'nickname': '76ers', 'urlName': 'sixers', 'teamShortName': 'Philadelphia', 'confName': 'East', 'divName': 'Atlantic'}, {'isNBAFranchise': True, 'isAllStar': False, 'city': 'Phoenix', 'altCityName': 'Phoenix', 'fullName': 'Phoenix Suns', 'tricode': 'PHX', 'teamId': '1610612756', 'nickname': 'Suns', 'urlName': 'suns', 'teamShortName': 'Phoenix', 'confName': 'West', 'divName': 'Pacific'}, {'isNBAFranchise': True, 'isAllStar': False, 'city': 'Portland', 'altCityName': 'Portland', 'fullName': 'Portland Trail Blazers', 'tricode': 'POR', 'teamId': '1610612757', 'nickname': 'Trail Blazers', 'urlName': 'blazers', 'teamShortName': 'Portland', 'confName': 'West', 'divName': 'Northwest'}, {'isNBAFranchise': False, 'isAllStar': False, 'city': \"Ra'anana\", 'altCityName': \"Ra'anana\", 'fullName': \"Ra'anana Maccabi Ra'anana\", 'tricode': 'MRA', 'teamId': '50009', 'nickname': \"Maccabi Ra'anana\", 'urlName': 'maccabi_raanana', 'teamShortName': \"Maccabi Ra'anana\", 'confName': 'Intl', 'divName': ''}, {'isNBAFranchise': True, 'isAllStar': False, 'city': 'Sacramento', 'altCityName': 'Sacramento', 'fullName': 'Sacramento Kings', 'tricode': 'SAC', 'teamId': '1610612758', 'nickname': 'Kings', 'urlName': 'kings', 'teamShortName': 'Sacramento', 'confName': 'West', 'divName': 'Pacific'}, {'isNBAFranchise': True, 'isAllStar': False, 'city': 'San Antonio', 'altCityName': 'San Antonio', 'fullName': 'San Antonio Spurs', 'tricode': 'SAS', 'teamId': '1610612759', 'nickname': 'Spurs', 'urlName': 'spurs', 'teamShortName': 'San Antonio', 'confName': 'West', 'divName': 'Southwest'}, {'isNBAFranchise': True, 'isAllStar': False, 'city': 'Toronto', 'altCityName': 'Toronto', 'fullName': 'Toronto Raptors', 'tricode': 'TOR', 'teamId': '1610612761', 'nickname': 'Raptors', 'urlName': 'raptors', 'teamShortName': 'Toronto', 'confName': 'East', 'divName': 'Atlantic'}, {'isNBAFranchise': True, 'isAllStar': False, 'city': 'Utah', 'altCityName': 'Utah', 'fullName': 'Utah Jazz', 'tricode': 'UTA', 'teamId': '1610612762', 'nickname': 'Jazz', 'urlName': 'jazz', 'teamShortName': 'Utah', 'confName': 'West', 'divName': 'Northwest'}, {'isNBAFranchise': True, 'isAllStar': False, 'city': 'Washington', 'altCityName': 'Washington', 'fullName': 'Washington Wizards', 'tricode': 'WAS', 'teamId': '1610612764', 'nickname': 'Wizards', 'urlName': 'wizards', 'teamShortName': 'Washington', 'confName': 'East', 'divName': 'Southeast'}]\n"
     ]
    }
   ],
   "source": [
    "# Captura link times\n",
    "\n",
    "def captura_team():\n",
    "    for i in resposta:\n",
    "        team = resposta['links']['teams']\n",
    "        return team \n",
    "        \n",
    "team = captura_team()\n",
    "print(team)\n",
    "\n",
    "\n",
    "teste = requests.get(url_incio+team).json()\n",
    "print(teste['league']['standard'])"
   ]
  },
  {
   "cell_type": "code",
   "execution_count": 99,
   "id": "ed556e5e",
   "metadata": {
    "scrolled": true
   },
   "outputs": [
    {
     "name": "stdout",
     "output_type": "stream",
     "text": [
      "<Response [200]>\n",
      "[]\n"
     ]
    }
   ],
   "source": [
    "# Chamando link capturado\n",
    "\n",
    "nova_requisicao = requests.get(url_incio+captura_link())\n",
    "\n",
    "# Verificando status\n",
    "print(nova_requisicao)\n",
    "\n",
    "# Transformando para json \n",
    "\n",
    "retorno_link = nova_requisicao.json()\n",
    "\n",
    "# Capturando games\n",
    "\n",
    "games = retorno_link['games']\n",
    "print(games)"
   ]
  },
  {
   "cell_type": "code",
   "execution_count": 100,
   "id": "27a18746",
   "metadata": {
    "scrolled": true
   },
   "outputs": [
    {
     "name": "stdout",
     "output_type": "stream",
     "text": [
      "[{'seasonStageId': 1, 'seasonYear': '2022', 'leagueName': 'standard', 'gameId': '0012200001', 'arena': {'name': 'Saitama Super Arena', 'isDomestic': False, 'city': 'Tokyo', 'stateAbbr': '', 'country': 'Japan'}, 'isGameActivated': False, 'statusNum': 1, 'extendedStatusNum': 0, 'startTimeEastern': '6:00 AM ET', 'startTimeUTC': '2022-09-30T10:00:00.000Z', 'startDateEastern': '20220930', 'homeStartDate': '20220930', 'homeStartTime': '0600', 'visitorStartDate': '20220930', 'visitorStartTime': '0300', 'gameUrlCode': '20220930/GSWWAS', 'clock': '', 'isBuzzerBeater': False, 'isPreviewArticleAvail': False, 'isRecapArticleAvail': False, 'nugget': {'text': ''}, 'attendance': '', 'tickets': {'mobileApp': 'https://a.data.nba.com/tickets/single/2022/0012200001/APP_TIX', 'desktopWeb': 'https://a.data.nba.com/tickets/single/2022/0012200001/TEAM_SCH', 'mobileWeb': 'https://a.data.nba.com/tickets/single/2022/0012200001/WEB_MWEB', 'leagGameInfo': 'https://a.data.nba.com/tickets/single/2022/0012200001/LEAG_GAMEINFO', 'leagTix': 'https://a.data.nba.com/tickets/single/2022/0012200001/LEAG_TIX'}, 'hasGameBookPdf': False, 'isStartTimeTBD': False, 'isNeutralVenue': False, 'gameDuration': {'hours': '', 'minutes': ''}, 'period': {'current': 0, 'type': 0, 'maxRegular': 4, 'isHalftime': False, 'isEndOfPeriod': False}, 'vTeam': {'teamId': '1610612744', 'triCode': 'GSW', 'win': '0', 'loss': '0', 'seriesWin': '', 'seriesLoss': '', 'score': '', 'linescore': []}, 'hTeam': {'teamId': '1610612764', 'triCode': 'WAS', 'win': '0', 'loss': '0', 'seriesWin': '', 'seriesLoss': '', 'score': '', 'linescore': []}, 'watch': {'broadcast': {'broadcasters': {'national': [{'shortName': 'NBA TV', 'longName': 'NBA TV'}], 'canadian': [], 'vTeam': [], 'hTeam': [{'shortName': 'NBCSWA', 'longName': 'NBC SPORTS WASHINGTON'}], 'spanish_hTeam': [], 'spanish_vTeam': [], 'spanish_national': []}, 'video': {'regionalBlackoutCodes': 'wasr', 'canPurchase': False, 'isLeaguePass': True, 'isNationalBlackout': True, 'isTNTOT': False, 'isVR': False, 'tntotIsOnAir': False, 'isNextVR': False, 'isNBAOnTNTVR': False, 'isMagicLeap': False, 'isOculusVenues': False, 'streams': [{'streamType': 'vTeam', 'isOnAir': False, 'doesArchiveExist': False, 'isArchiveAvailToWatch': False, 'streamId': '', 'duration': 0}, {'streamType': 'hTeam', 'isOnAir': False, 'doesArchiveExist': False, 'isArchiveAvailToWatch': False, 'streamId': '', 'duration': 0}, {'streamType': 'espanol_vTeam', 'isOnAir': False, 'doesArchiveExist': False, 'isArchiveAvailToWatch': False, 'streamId': '', 'duration': 0}, {'streamType': 'espanol_hTeam', 'isOnAir': False, 'doesArchiveExist': False, 'isArchiveAvailToWatch': False, 'streamId': '', 'duration': 0}, {'streamType': 'espanol_natl', 'isOnAir': False, 'doesArchiveExist': False, 'isArchiveAvailToWatch': False, 'streamId': '', 'duration': 0}, {'streamType': 'mobile', 'isOnAir': False, 'doesArchiveExist': False, 'isArchiveAvailToWatch': False, 'streamId': '', 'duration': 0}, {'streamType': 'condensed', 'isOnAir': False, 'doesArchiveExist': False, 'isArchiveAvailToWatch': False, 'streamId': '', 'duration': 0}, {'streamType': 'alt', 'isOnAir': False, 'doesArchiveExist': False, 'isArchiveAvailToWatch': False, 'streamId': '', 'duration': 0}], 'deepLink': []}, 'audio': {'national': {'streams': [{'language': 'English', 'isOnAir': False, 'streamId': ''}, {'language': 'Spanish', 'isOnAir': False, 'streamId': ''}], 'broadcasters': []}, 'vTeam': {'streams': [{'language': 'English', 'isOnAir': False, 'streamId': ''}, {'language': 'Spanish', 'isOnAir': False, 'streamId': ''}], 'broadcasters': [{'shortName': '95.7 The Game', 'longName': '95.7 The Game'}]}, 'hTeam': {'streams': [{'language': 'English', 'isOnAir': False, 'streamId': ''}, {'language': 'Spanish', 'isOnAir': False, 'streamId': ''}], 'broadcasters': [{'shortName': 'The Team 980', 'longName': 'The Team 980'}]}}}}}, {'seasonStageId': 1, 'seasonYear': '2022', 'leagueName': 'standard', 'gameId': '0012200002', 'arena': {'name': 'Climate Pledge Arena', 'isDomestic': True, 'city': 'Seattle', 'stateAbbr': 'WA', 'country': 'USA'}, 'isGameActivated': False, 'statusNum': 1, 'extendedStatusNum': 0, 'startTimeEastern': '10:00 PM ET', 'startTimeUTC': '2022-10-01T02:00:00.000Z', 'startDateEastern': '20220930', 'homeStartDate': '20220930', 'homeStartTime': '1900', 'visitorStartDate': '20221001', 'visitorStartTime': '0500', 'gameUrlCode': '20220930/MRALAC', 'clock': '', 'isBuzzerBeater': False, 'isPreviewArticleAvail': False, 'isRecapArticleAvail': False, 'nugget': {'text': ''}, 'attendance': '', 'tickets': {'mobileApp': 'https://a.data.nba.com/tickets/single/2022/0012200002/APP_TIX', 'desktopWeb': 'https://a.data.nba.com/tickets/single/2022/0012200002/TEAM_SCH', 'mobileWeb': 'https://a.data.nba.com/tickets/single/2022/0012200002/WEB_MWEB', 'leagGameInfo': 'https://a.data.nba.com/tickets/single/2022/0012200002/LEAG_GAMEINFO', 'leagTix': 'https://a.data.nba.com/tickets/single/2022/0012200002/LEAG_TIX'}, 'hasGameBookPdf': False, 'isStartTimeTBD': False, 'isNeutralVenue': False, 'gameDuration': {'hours': '', 'minutes': ''}, 'period': {'current': 0, 'type': 0, 'maxRegular': 4, 'isHalftime': False, 'isEndOfPeriod': False}, 'vTeam': {'teamId': '50009', 'triCode': 'MRA', 'win': '0', 'loss': '0', 'seriesWin': '', 'seriesLoss': '', 'score': '', 'linescore': []}, 'hTeam': {'teamId': '1610612746', 'triCode': 'LAC', 'win': '0', 'loss': '0', 'seriesWin': '', 'seriesLoss': '', 'score': '', 'linescore': []}, 'watch': {'broadcast': {'broadcasters': {'national': [{'shortName': 'NBA TV', 'longName': 'NBA TV'}], 'canadian': [], 'vTeam': [], 'hTeam': [{'shortName': 'KTLA', 'longName': 'KTLA-TV'}], 'spanish_hTeam': [], 'spanish_vTeam': [], 'spanish_national': []}, 'video': {'regionalBlackoutCodes': 'laco', 'canPurchase': False, 'isLeaguePass': True, 'isNationalBlackout': True, 'isTNTOT': False, 'isVR': False, 'tntotIsOnAir': False, 'isNextVR': False, 'isNBAOnTNTVR': False, 'isMagicLeap': False, 'isOculusVenues': False, 'streams': [{'streamType': 'vTeam', 'isOnAir': False, 'doesArchiveExist': False, 'isArchiveAvailToWatch': False, 'streamId': '', 'duration': 0}, {'streamType': 'hTeam', 'isOnAir': False, 'doesArchiveExist': False, 'isArchiveAvailToWatch': False, 'streamId': '', 'duration': 0}, {'streamType': 'espanol_vTeam', 'isOnAir': False, 'doesArchiveExist': False, 'isArchiveAvailToWatch': False, 'streamId': '', 'duration': 0}, {'streamType': 'espanol_hTeam', 'isOnAir': False, 'doesArchiveExist': False, 'isArchiveAvailToWatch': False, 'streamId': '', 'duration': 0}, {'streamType': 'espanol_natl', 'isOnAir': False, 'doesArchiveExist': False, 'isArchiveAvailToWatch': False, 'streamId': '', 'duration': 0}, {'streamType': 'mobile', 'isOnAir': False, 'doesArchiveExist': False, 'isArchiveAvailToWatch': False, 'streamId': '', 'duration': 0}, {'streamType': 'condensed', 'isOnAir': False, 'doesArchiveExist': False, 'isArchiveAvailToWatch': False, 'streamId': '', 'duration': 0}, {'streamType': 'alt', 'isOnAir': False, 'doesArchiveExist': False, 'isArchiveAvailToWatch': False, 'streamId': '', 'duration': 0}], 'deepLink': []}, 'audio': {'national': {'streams': [{'language': 'English', 'isOnAir': False, 'streamId': ''}, {'language': 'Spanish', 'isOnAir': False, 'streamId': ''}], 'broadcasters': []}, 'vTeam': {'streams': [{'language': 'English', 'isOnAir': False, 'streamId': ''}, {'language': 'Spanish', 'isOnAir': False, 'streamId': ''}], 'broadcasters': [{'shortName': '', 'longName': ''}]}, 'hTeam': {'streams': [{'language': 'English', 'isOnAir': False, 'streamId': ''}, {'language': 'Spanish', 'isOnAir': False, 'streamId': ''}], 'broadcasters': [{'shortName': '', 'longName': ''}]}}}}}]\n",
      "\n",
      "\n",
      "[{'isNBAFranchise': False, 'isAllStar': False, 'city': 'Adelaide', 'altCityName': 'Adelaide', 'fullName': 'Adelaide 36ers', 'tricode': 'ADL', 'teamId': '15019', 'nickname': '36ers', 'urlName': '36ers', 'teamShortName': 'Adelaide', 'confName': 'Intl', 'divName': ''}, {'isNBAFranchise': True, 'isAllStar': False, 'city': 'Atlanta', 'altCityName': 'Atlanta', 'fullName': 'Atlanta Hawks', 'tricode': 'ATL', 'teamId': '1610612737', 'nickname': 'Hawks', 'urlName': 'hawks', 'teamShortName': 'Atlanta', 'confName': 'East', 'divName': 'Southeast'}, {'isNBAFranchise': True, 'isAllStar': False, 'city': 'Boston', 'altCityName': 'Boston', 'fullName': 'Boston Celtics', 'tricode': 'BOS', 'teamId': '1610612738', 'nickname': 'Celtics', 'urlName': 'celtics', 'teamShortName': 'Boston', 'confName': 'East', 'divName': 'Atlantic'}, {'isNBAFranchise': True, 'isAllStar': False, 'city': 'Brooklyn', 'altCityName': 'Brooklyn', 'fullName': 'Brooklyn Nets', 'tricode': 'BKN', 'teamId': '1610612751', 'nickname': 'Nets', 'urlName': 'nets', 'teamShortName': 'Brooklyn', 'confName': 'East', 'divName': 'Atlantic'}, {'isNBAFranchise': True, 'isAllStar': False, 'city': 'Charlotte', 'altCityName': 'Charlotte', 'fullName': 'Charlotte Hornets', 'tricode': 'CHA', 'teamId': '1610612766', 'nickname': 'Hornets', 'urlName': 'hornets', 'teamShortName': 'Charlotte', 'confName': 'East', 'divName': 'Southeast'}, {'isNBAFranchise': True, 'isAllStar': False, 'city': 'Chicago', 'altCityName': 'Chicago', 'fullName': 'Chicago Bulls', 'tricode': 'CHI', 'teamId': '1610612741', 'nickname': 'Bulls', 'urlName': 'bulls', 'teamShortName': 'Chicago', 'confName': 'East', 'divName': 'Central'}, {'isNBAFranchise': True, 'isAllStar': False, 'city': 'Cleveland', 'altCityName': 'Cleveland', 'fullName': 'Cleveland Cavaliers', 'tricode': 'CLE', 'teamId': '1610612739', 'nickname': 'Cavaliers', 'urlName': 'cavaliers', 'teamShortName': 'Cleveland', 'confName': 'East', 'divName': 'Central'}, {'isNBAFranchise': True, 'isAllStar': False, 'city': 'Dallas', 'altCityName': 'Dallas', 'fullName': 'Dallas Mavericks', 'tricode': 'DAL', 'teamId': '1610612742', 'nickname': 'Mavericks', 'urlName': 'mavericks', 'teamShortName': 'Dallas', 'confName': 'West', 'divName': 'Southwest'}, {'isNBAFranchise': True, 'isAllStar': False, 'city': 'Denver', 'altCityName': 'Denver', 'fullName': 'Denver Nuggets', 'tricode': 'DEN', 'teamId': '1610612743', 'nickname': 'Nuggets', 'urlName': 'nuggets', 'teamShortName': 'Denver', 'confName': 'West', 'divName': 'Northwest'}, {'isNBAFranchise': True, 'isAllStar': False, 'city': 'Detroit', 'altCityName': 'Detroit', 'fullName': 'Detroit Pistons', 'tricode': 'DET', 'teamId': '1610612765', 'nickname': 'Pistons', 'urlName': 'pistons', 'teamShortName': 'Detroit', 'confName': 'East', 'divName': 'Central'}, {'isNBAFranchise': True, 'isAllStar': False, 'city': 'Golden State', 'altCityName': 'Golden State', 'fullName': 'Golden State Warriors', 'tricode': 'GSW', 'teamId': '1610612744', 'nickname': 'Warriors', 'urlName': 'warriors', 'teamShortName': 'Golden State', 'confName': 'West', 'divName': 'Pacific'}, {'isNBAFranchise': True, 'isAllStar': False, 'city': 'Houston', 'altCityName': 'Houston', 'fullName': 'Houston Rockets', 'tricode': 'HOU', 'teamId': '1610612745', 'nickname': 'Rockets', 'urlName': 'rockets', 'teamShortName': 'Houston', 'confName': 'West', 'divName': 'Southwest'}, {'isNBAFranchise': True, 'isAllStar': False, 'city': 'Indiana', 'altCityName': 'Indiana', 'fullName': 'Indiana Pacers', 'tricode': 'IND', 'teamId': '1610612754', 'nickname': 'Pacers', 'urlName': 'pacers', 'teamShortName': 'Indiana', 'confName': 'East', 'divName': 'Central'}, {'isNBAFranchise': True, 'isAllStar': False, 'city': 'LA', 'altCityName': 'LA Clippers', 'fullName': 'LA Clippers', 'tricode': 'LAC', 'teamId': '1610612746', 'nickname': 'Clippers', 'urlName': 'clippers', 'teamShortName': 'LA Clippers', 'confName': 'West', 'divName': 'Pacific'}, {'isNBAFranchise': True, 'isAllStar': False, 'city': 'Los Angeles', 'altCityName': 'Los Angeles Lakers', 'fullName': 'Los Angeles Lakers', 'tricode': 'LAL', 'teamId': '1610612747', 'nickname': 'Lakers', 'urlName': 'lakers', 'teamShortName': 'L.A. Lakers', 'confName': 'West', 'divName': 'Pacific'}, {'isNBAFranchise': True, 'isAllStar': False, 'city': 'Memphis', 'altCityName': 'Memphis', 'fullName': 'Memphis Grizzlies', 'tricode': 'MEM', 'teamId': '1610612763', 'nickname': 'Grizzlies', 'urlName': 'grizzlies', 'teamShortName': 'Memphis', 'confName': 'West', 'divName': 'Southwest'}, {'isNBAFranchise': True, 'isAllStar': False, 'city': 'Miami', 'altCityName': 'Miami', 'fullName': 'Miami Heat', 'tricode': 'MIA', 'teamId': '1610612748', 'nickname': 'Heat', 'urlName': 'heat', 'teamShortName': 'Miami', 'confName': 'East', 'divName': 'Southeast'}, {'isNBAFranchise': True, 'isAllStar': False, 'city': 'Milwaukee', 'altCityName': 'Milwaukee', 'fullName': 'Milwaukee Bucks', 'tricode': 'MIL', 'teamId': '1610612749', 'nickname': 'Bucks', 'urlName': 'bucks', 'teamShortName': 'Milwaukee', 'confName': 'East', 'divName': 'Central'}, {'isNBAFranchise': True, 'isAllStar': False, 'city': 'Minnesota', 'altCityName': 'Minnesota', 'fullName': 'Minnesota Timberwolves', 'tricode': 'MIN', 'teamId': '1610612750', 'nickname': 'Timberwolves', 'urlName': 'timberwolves', 'teamShortName': 'Minnesota', 'confName': 'West', 'divName': 'Northwest'}, {'isNBAFranchise': True, 'isAllStar': False, 'city': 'New Orleans', 'altCityName': 'New Orleans', 'fullName': 'New Orleans Pelicans', 'tricode': 'NOP', 'teamId': '1610612740', 'nickname': 'Pelicans', 'urlName': 'pelicans', 'teamShortName': 'New Orleans', 'confName': 'West', 'divName': 'Southwest'}, {'isNBAFranchise': True, 'isAllStar': False, 'city': 'New York', 'altCityName': 'New York', 'fullName': 'New York Knicks', 'tricode': 'NYK', 'teamId': '1610612752', 'nickname': 'Knicks', 'urlName': 'knicks', 'teamShortName': 'New York', 'confName': 'East', 'divName': 'Atlantic'}, {'isNBAFranchise': True, 'isAllStar': False, 'city': 'Oklahoma City', 'altCityName': 'Oklahoma City', 'fullName': 'Oklahoma City Thunder', 'tricode': 'OKC', 'teamId': '1610612760', 'nickname': 'Thunder', 'urlName': 'thunder', 'teamShortName': 'Oklahoma City', 'confName': 'West', 'divName': 'Northwest'}, {'isNBAFranchise': True, 'isAllStar': False, 'city': 'Orlando', 'altCityName': 'Orlando', 'fullName': 'Orlando Magic', 'tricode': 'ORL', 'teamId': '1610612753', 'nickname': 'Magic', 'urlName': 'magic', 'teamShortName': 'Orlando', 'confName': 'East', 'divName': 'Southeast'}, {'isNBAFranchise': True, 'isAllStar': False, 'city': 'Philadelphia', 'altCityName': 'Philadelphia', 'fullName': 'Philadelphia 76ers', 'tricode': 'PHI', 'teamId': '1610612755', 'nickname': '76ers', 'urlName': 'sixers', 'teamShortName': 'Philadelphia', 'confName': 'East', 'divName': 'Atlantic'}, {'isNBAFranchise': True, 'isAllStar': False, 'city': 'Phoenix', 'altCityName': 'Phoenix', 'fullName': 'Phoenix Suns', 'tricode': 'PHX', 'teamId': '1610612756', 'nickname': 'Suns', 'urlName': 'suns', 'teamShortName': 'Phoenix', 'confName': 'West', 'divName': 'Pacific'}, {'isNBAFranchise': True, 'isAllStar': False, 'city': 'Portland', 'altCityName': 'Portland', 'fullName': 'Portland Trail Blazers', 'tricode': 'POR', 'teamId': '1610612757', 'nickname': 'Trail Blazers', 'urlName': 'blazers', 'teamShortName': 'Portland', 'confName': 'West', 'divName': 'Northwest'}, {'isNBAFranchise': False, 'isAllStar': False, 'city': \"Ra'anana\", 'altCityName': \"Ra'anana\", 'fullName': \"Ra'anana Maccabi Ra'anana\", 'tricode': 'MRA', 'teamId': '50009', 'nickname': \"Maccabi Ra'anana\", 'urlName': 'maccabi_raanana', 'teamShortName': \"Maccabi Ra'anana\", 'confName': 'Intl', 'divName': ''}, {'isNBAFranchise': True, 'isAllStar': False, 'city': 'Sacramento', 'altCityName': 'Sacramento', 'fullName': 'Sacramento Kings', 'tricode': 'SAC', 'teamId': '1610612758', 'nickname': 'Kings', 'urlName': 'kings', 'teamShortName': 'Sacramento', 'confName': 'West', 'divName': 'Pacific'}, {'isNBAFranchise': True, 'isAllStar': False, 'city': 'San Antonio', 'altCityName': 'San Antonio', 'fullName': 'San Antonio Spurs', 'tricode': 'SAS', 'teamId': '1610612759', 'nickname': 'Spurs', 'urlName': 'spurs', 'teamShortName': 'San Antonio', 'confName': 'West', 'divName': 'Southwest'}, {'isNBAFranchise': True, 'isAllStar': False, 'city': 'Toronto', 'altCityName': 'Toronto', 'fullName': 'Toronto Raptors', 'tricode': 'TOR', 'teamId': '1610612761', 'nickname': 'Raptors', 'urlName': 'raptors', 'teamShortName': 'Toronto', 'confName': 'East', 'divName': 'Atlantic'}, {'isNBAFranchise': True, 'isAllStar': False, 'city': 'Utah', 'altCityName': 'Utah', 'fullName': 'Utah Jazz', 'tricode': 'UTA', 'teamId': '1610612762', 'nickname': 'Jazz', 'urlName': 'jazz', 'teamShortName': 'Utah', 'confName': 'West', 'divName': 'Northwest'}, {'isNBAFranchise': True, 'isAllStar': False, 'city': 'Washington', 'altCityName': 'Washington', 'fullName': 'Washington Wizards', 'tricode': 'WAS', 'teamId': '1610612764', 'nickname': 'Wizards', 'urlName': 'wizards', 'teamShortName': 'Washington', 'confName': 'East', 'divName': 'Southeast'}]\n"
     ]
    },
    {
     "data": {
      "text/plain": [
       "'10,17'"
      ]
     },
     "execution_count": 100,
     "metadata": {},
     "output_type": "execute_result"
    }
   ],
   "source": [
    "# Verifica se há jogos \n",
    "\n",
    "url_incio = 'http://data.nba.net'\n",
    "\n",
    "# Tratativa na data \n",
    "data = dt.date.today()\n",
    "data = str(data)\n",
    "data = data.replace('-','')\n",
    "\n",
    "# Passa a data tratada para uma variavel \n",
    "data_list = data\n",
    "\n",
    "# Tira o link do formato de lista\n",
    "link = []\n",
    "link.append(captura_link())\n",
    "link = ','.join(link)\n",
    "\n",
    "\n",
    "# Verifica se hoje há jogos se não busca a data que tenha \n",
    "def verfica_Jogos():\n",
    "    status = 1\n",
    "    contador = 0 \n",
    "    dias = 0 \n",
    "    while (status == 1):\n",
    "        contador += 1 \n",
    "        dias += 1 \n",
    "        dia = str(link[15]) + str(link[16])\n",
    "        mes = str(link[13]) + str(link[14])\n",
    "        ano = str(link[9]) + str(link[10]) + str(link[11]) + str(link[12])\n",
    "        data = ano+'/'+mes+'/'+dia\n",
    "        data = datetime.strptime(data,'%Y/%m/%d').date()\n",
    "        data_nova = data + dt.timedelta(days=dias)\n",
    "        data_nova = str(data_nova)\n",
    "        data_nova = data_nova.replace('-','')\n",
    "        data_antiga = ano+mes+dia\n",
    "        url = (link.replace(data_antiga,data_nova))\n",
    "        requisicao = requests.get(url_incio+url,timeout = 10).json()\n",
    "        if (requisicao['games'] == []):\n",
    "            status = 1 \n",
    "        else:\n",
    "            status = 0 \n",
    "            requisicao_team = requests.get(url_incio+team).json()\n",
    "    return requisicao['games'],requisicao_team['league']['standard']\n",
    "\n",
    "# Chama a funcao para uma variavel\n",
    "requisicao,team = verfica_Jogos()\n",
    "print(requisicao)\n",
    "print('')\n",
    "print('')\n",
    "print(team)\n",
    "\n",
    "# Print retorno funcao\n",
    "\n",
    "# Verifica range de date \n",
    "def verifica_range_date():\n",
    "    contador = 0\n",
    "    range_list = []\n",
    "    for i in link:\n",
    "        contador += 1\n",
    "        if(i in data_list):\n",
    "            if(contador > 7):\n",
    "                range_list.append(contador)\n",
    "    max_list = max(range_list)\n",
    "    min_list = min(range_list)\n",
    "    range_list = str(min_list)+','+str(max_list)\n",
    "    return range_list\n",
    "\n",
    "verifica_range_date()\n",
    "\n",
    "#for i in requisicao:\n",
    " #   print(i)"
   ]
  },
  {
   "cell_type": "code",
   "execution_count": 101,
   "id": "56ab3816",
   "metadata": {
    "scrolled": false
   },
   "outputs": [
    {
     "name": "stdout",
     "output_type": "stream",
     "text": [
      "itens adicionados com sucesso\n"
     ]
    }
   ],
   "source": [
    "# captura itens \n",
    "\n",
    "home_list = []\n",
    "rival_list = []\n",
    "cidade_list = []\n",
    "local_list = []\n",
    "dataEhora_list = []\n",
    "\n",
    "def imprimi_jogos():\n",
    "    for i in requisicao:\n",
    "        home =  i['vTeam']['triCode']\n",
    "        rival = i['hTeam']['triCode']\n",
    "        local = i['arena']['name']\n",
    "        cidade = i['arena']['city']\n",
    "        data = i['startDateEastern']\n",
    "        data = list(data)\n",
    "        data = data[0]+data[1]+data[2]+data[3]+'-'+data[4]+data[5]+'-'+data[6]+data[7]\n",
    "        data = datetime.strptime(data, '%Y-%m-%d').date()\n",
    "        hora = i['startTimeEastern']\n",
    "        data = str(data)\n",
    "        dataEhora = data+' '+hora\n",
    "        home_list.append(home)\n",
    "        rival_list.append(rival)\n",
    "        cidade_list.append(cidade)\n",
    "        local_list.append(local)\n",
    "        dataEhora_list.append(dataEhora)\n",
    "    return print('itens adicionados com sucesso')\n",
    "\n",
    "\n",
    "imprimi_jogos()        "
   ]
  },
  {
   "cell_type": "code",
   "execution_count": 102,
   "id": "49c8a69c",
   "metadata": {
    "scrolled": true
   },
   "outputs": [
    {
     "name": "stdout",
     "output_type": "stream",
     "text": [
      "['Golden State Warriors', \"Ra'anana Maccabi Ra'anana\"]\n",
      "['GSW', 'MRA']\n",
      "['Golden State', \"Ra'anana\"]\n",
      "['LA Clippers', 'Washington Wizards']\n",
      "['LAC', 'WAS']\n",
      "['LA', 'Washington']\n"
     ]
    }
   ],
   "source": [
    "# captura variaveis team \n",
    "\n",
    "team_full_name_home = []\n",
    "team_tricode_home = []\n",
    "team_city_home = []\n",
    "\n",
    "team_full_name_rival = []\n",
    "team_tricode_rival = []\n",
    "team_city_rival = []\n",
    "\n",
    "for i in team:\n",
    "    if (i['tricode'] in home_list):\n",
    "        team_full_name_home.append(i['fullName'])\n",
    "        team_tricode_home.append(i['tricode'])\n",
    "        team_city_home.append(i['city'])\n",
    "    if (i['tricode'] in rival_list):\n",
    "        team_full_name_rival.append(i['fullName'])\n",
    "        team_tricode_rival.append(i['tricode'])\n",
    "        team_city_rival.append(i['city'])\n",
    "    \n",
    "print(team_full_name_home)\n",
    "print(team_tricode_home)\n",
    "print(team_city_home)\n",
    "\n",
    "print(team_full_name_rival)\n",
    "print(team_tricode_rival)\n",
    "print(team_city_rival)"
   ]
  },
  {
   "cell_type": "code",
   "execution_count": 103,
   "id": "1d50971b",
   "metadata": {},
   "outputs": [
    {
     "name": "stdout",
     "output_type": "stream",
     "text": [
      "                   home_nome     home_city tricode_home          rival_name  \\\n",
      "0      Golden State Warriors  Golden State          GSW         LA Clippers   \n",
      "1  Ra'anana Maccabi Ra'anana      Ra'anana          MRA  Washington Wizards   \n",
      "\n",
      "   rival_city tricode_rival  \n",
      "0          LA           LAC  \n",
      "1  Washington           WAS  \n"
     ]
    }
   ],
   "source": [
    "# transformando em um dataframe\n",
    "\n",
    "df = pd.DataFrame(team_full_name_home)\n",
    "df['home_city'] = team_city_home\n",
    "df['tricode_home'] = team_tricode_home\n",
    "df['rival_name'] = team_full_name_rival\n",
    "df['rival_city'] = team_city_rival\n",
    "df['tricode_rival'] = team_tricode_rival\n",
    "\n",
    "df_team = df.rename(columns={0:'home_nome'})\n",
    "\n",
    "print(df_team)\n"
   ]
  },
  {
   "cell_type": "code",
   "execution_count": 104,
   "id": "3d309d23",
   "metadata": {
    "scrolled": false
   },
   "outputs": [
    {
     "name": "stdout",
     "output_type": "stream",
     "text": [
      "  tricode_home tricode_rival   cidade                 local  \\\n",
      "0          GSW           WAS    Tokyo   Saitama Super Arena   \n",
      "1          MRA           LAC  Seattle  Climate Pledge Arena   \n",
      "\n",
      "                dataEhora  \n",
      "0   2022-09-30 6:00 AM ET  \n",
      "1  2022-09-30 10:00 PM ET  \n"
     ]
    }
   ],
   "source": [
    "# Salva itens em um dataframe\n",
    "\n",
    "df_game = pd.DataFrame(home_list, columns = ['tricode_home'])\n",
    "\n",
    "df_game['tricode_rival'] = rival_list\n",
    "df_game['cidade'] = cidade_list\n",
    "df_game['local'] = local_list\n",
    "df_game['dataEhora'] = dataEhora_list\n",
    "\n",
    "\n",
    "print(df_game)\n",
    "   "
   ]
  },
  {
   "cell_type": "code",
   "execution_count": 105,
   "id": "e9bd2ed8",
   "metadata": {},
   "outputs": [
    {
     "name": "stdout",
     "output_type": "stream",
     "text": [
      "                   home_nome     home_city tricode_home          rival_name  \\\n",
      "0      Golden State Warriors  Golden State          GSW         LA Clippers   \n",
      "1  Ra'anana Maccabi Ra'anana      Ra'anana          MRA  Washington Wizards   \n",
      "\n",
      "   rival_city tricode_rival_x tricode_rival_y   cidade                 local  \\\n",
      "0          LA             LAC             WAS    Tokyo   Saitama Super Arena   \n",
      "1  Washington             WAS             LAC  Seattle  Climate Pledge Arena   \n",
      "\n",
      "                dataEhora  \n",
      "0   2022-09-30 6:00 AM ET  \n",
      "1  2022-09-30 10:00 PM ET  \n"
     ]
    }
   ],
   "source": [
    "# Mergeando dataframe\n",
    "\n",
    "df = df_team.merge(df_game , left_on = 'tricode_home', right_on = 'tricode_home',how=\"inner\")\n",
    "\n",
    "print(df)\n",
    "\n"
   ]
  },
  {
   "cell_type": "code",
   "execution_count": 106,
   "id": "654de27e",
   "metadata": {},
   "outputs": [
    {
     "data": {
      "text/html": [
       "<div>\n",
       "<style scoped>\n",
       "    .dataframe tbody tr th:only-of-type {\n",
       "        vertical-align: middle;\n",
       "    }\n",
       "\n",
       "    .dataframe tbody tr th {\n",
       "        vertical-align: top;\n",
       "    }\n",
       "\n",
       "    .dataframe thead th {\n",
       "        text-align: right;\n",
       "    }\n",
       "</style>\n",
       "<table border=\"1\" class=\"dataframe\">\n",
       "  <thead>\n",
       "    <tr style=\"text-align: right;\">\n",
       "      <th></th>\n",
       "      <th>home_nome</th>\n",
       "      <th>home_city</th>\n",
       "      <th>tricode_home</th>\n",
       "      <th>rival_name</th>\n",
       "      <th>rival_city</th>\n",
       "      <th>tricode_rival_x</th>\n",
       "      <th>tricode_rival_y</th>\n",
       "      <th>cidade</th>\n",
       "      <th>local</th>\n",
       "      <th>dataEhora</th>\n",
       "    </tr>\n",
       "  </thead>\n",
       "  <tbody>\n",
       "    <tr>\n",
       "      <th>0</th>\n",
       "      <td>Golden State Warriors</td>\n",
       "      <td>Golden State</td>\n",
       "      <td>GSW</td>\n",
       "      <td>LA Clippers</td>\n",
       "      <td>LA</td>\n",
       "      <td>LAC</td>\n",
       "      <td>WAS</td>\n",
       "      <td>Tokyo</td>\n",
       "      <td>Saitama Super Arena</td>\n",
       "      <td>2022-09-30 6:00 AM ET</td>\n",
       "    </tr>\n",
       "    <tr>\n",
       "      <th>1</th>\n",
       "      <td>Ra'anana Maccabi Ra'anana</td>\n",
       "      <td>Ra'anana</td>\n",
       "      <td>MRA</td>\n",
       "      <td>Washington Wizards</td>\n",
       "      <td>Washington</td>\n",
       "      <td>WAS</td>\n",
       "      <td>LAC</td>\n",
       "      <td>Seattle</td>\n",
       "      <td>Climate Pledge Arena</td>\n",
       "      <td>2022-09-30 10:00 PM ET</td>\n",
       "    </tr>\n",
       "  </tbody>\n",
       "</table>\n",
       "</div>"
      ],
      "text/plain": [
       "                   home_nome     home_city tricode_home          rival_name  \\\n",
       "0      Golden State Warriors  Golden State          GSW         LA Clippers   \n",
       "1  Ra'anana Maccabi Ra'anana      Ra'anana          MRA  Washington Wizards   \n",
       "\n",
       "   rival_city tricode_rival_x tricode_rival_y   cidade                 local  \\\n",
       "0          LA             LAC             WAS    Tokyo   Saitama Super Arena   \n",
       "1  Washington             WAS             LAC  Seattle  Climate Pledge Arena   \n",
       "\n",
       "                dataEhora  \n",
       "0   2022-09-30 6:00 AM ET  \n",
       "1  2022-09-30 10:00 PM ET  "
      ]
     },
     "execution_count": 106,
     "metadata": {},
     "output_type": "execute_result"
    }
   ],
   "source": [
    "# Passando dataframe para arquivo em excel\n",
    "\n",
    "df.to_excel(r'C:\\Users\\Rodrigo Correa\\Desktop\\Codigos\\jogoNBA.xlsx',index=False)\n",
    "\n",
    "leitura = pd.read_excel(r'C:\\Users\\Rodrigo Correa\\Desktop\\Codigos\\jogoNBA.xlsx')\n",
    "\n",
    "leitura.head()\n"
   ]
  },
  {
   "cell_type": "code",
   "execution_count": 107,
   "id": "f498c231",
   "metadata": {},
   "outputs": [
    {
     "name": "stdout",
     "output_type": "stream",
     "text": [
      "upload sendo realizando...\n",
      "upload concluido com sucesso\n"
     ]
    }
   ],
   "source": [
    "# Faz o upload do dataframe para azure\n",
    "\n",
    "def upload_file():\n",
    "    connection_string = \"DefaultEndpointsProtocol=https;AccountName=staengdados;AccountKey=KtfGJ/u3NWxqsFBksx2gR8hRVAcpV0lsVr9liYwsXJoTx68DIa2KtFVobhO6Ob3bmo8PcobxzNYk+AStltMUjA==;EndpointSuffix=core.windows.net\"\n",
    "    container_name = 'teste1'\n",
    "    nome_file = \"dadosNBA\"\n",
    "    data = df\n",
    "    filename = '{}.json'.format(nome_file)  \n",
    "    \n",
    "    container_client = BlobServiceClient.from_connection_string(connection_string)\n",
    "    blob_client = container_client.get_blob_client(container=container_name, blob = filename)\n",
    "\n",
    "    output = pd.DataFrame(df).to_json()\n",
    "    print('upload sendo realizando...')\n",
    "    time.sleep(4)\n",
    "    blob_client.upload_blob(output, blob_type=\"BlockBlob\", overwrite = True)\n",
    "    print('upload concluido com sucesso')\n",
    "\n",
    "upload_file()\n"
   ]
  },
  {
   "cell_type": "code",
   "execution_count": 109,
   "id": "21f53b66",
   "metadata": {},
   "outputs": [],
   "source": [
    "# cria funcoes de normalizacao \n",
    "\n",
    "normalize_keys = {}\n",
    "\n",
    "custom_normalize_keys = {}\n",
    "\n",
    "\n",
    "# DEFINIÇÃO DAS FUNÇÕES\n",
    "\n",
    "\n",
    "def create_obj(keys, value = ''):\n",
    "    return { i: copy.copy(value) for i in keys }        \n",
    "\n",
    "def normalize_level(data, principal_key, default_keys):\n",
    "    if principal_key in data:\n",
    "        if not isinstance(data[principal_key]['0'], (dict, list)):\n",
    "            return None\n",
    "        temp_data = create_obj(default_keys, {})\n",
    "        for key, value in data[principal_key].items():\n",
    "            if not isinstance(value, (dict, list)) or value == []:\n",
    "                continue\n",
    "            if value == {}:\n",
    "                value = create_obj(default_keys)\n",
    "            if isinstance(value, list):\n",
    "                value = value[0]\n",
    "            for dkey, dvalue in value.items():\n",
    "                if dkey in default_keys:\n",
    "                    temp_data[dkey][key] = dvalue\n",
    "        del data[principal_key]    \n",
    "        data.update(temp_data)\n",
    "    return data\n",
    "\n",
    "def normalize_keys_data(data, pre_normalize_arr = {}):\n",
    "    data = json.loads(data.content_as_text())\n",
    "    data = pd.json_normalize(data, max_level = 0).iloc[0].to_dict()\n",
    "    \n",
    "    for key, default_value in pre_normalize_arr.items():\n",
    "        normalize_level(data, key, default_value) \n",
    "    \n",
    "    for key, default_value in normalize_keys.items():\n",
    "        normalize_level(data, key, default_value) \n",
    "    \n",
    "    if data == {} or data == []:\n",
    "        return None\n",
    "    \n",
    "    return pd.DataFrame(pd.json_normalize(data, max_level = 0).iloc[0].to_dict()).to_csv(index = False)\n",
    "\n",
    "def normalize_blob_data(data, max_level = -1):\n",
    "    return pd.json_normalize(json.loads(data.content_as_text()), max_level = max_level).iloc[0].to_json()\n",
    "\n",
    "def download_and_contain_blob(blob_client, blob_name):\n",
    "    print('[{}]:[INFO] : Blob name: {}'.format(dt.datetime.utcnow(), blob_name))\n",
    "    print(\"[{}]:[INFO] : Downloading {} ...\".format(dt.datetime.utcnow(), blob_name))\n",
    "    blob_name = blob_name.split('.')[0] + '.csv'\n",
    "    blob_data = blob_client.download_blob()\n",
    "    \n",
    "    pre_normalize = {}\n",
    "    for normalize_name, normalize_data in custom_normalize_keys.items():\n",
    "        if normalize_name in blob_name:\n",
    "            pre_normalize.update(normalize_data)\n",
    "    \n",
    "    blob_text = normalize_keys_data(blob_data, pre_normalize)\n",
    "    blob_texts.update({blob_name: blob_text})\n",
    "    print(\"[{}]:[INFO] : download finished\".format(dt.datetime.utcnow()))\n",
    "\n",
    "def download_blob(blob_client, blob_name):\n",
    "    print('[{}]:[INFO] : Blob name: {}'.format(dt.datetime.utcnow(), blob_name))\n",
    "    print(\"[{}]:[INFO] : Downloading {} ...\".format(dt.datetime.utcnow(), blob_name))\n",
    "    blob_data = blob_client.download_blob()\n",
    "    print(\"[{}]:[INFO] : download finished\".format(dt.datetime.utcnow()))\n",
    "    return blob_data\n",
    "  \n",
    "connection_string = \"DefaultEndpointsProtocol=https;AccountName=staengdados;AccountKey=KtfGJ/u3NWxqsFBksx2gR8hRVAcpV0lsVr9liYwsXJoTx68DIa2KtFVobhO6Ob3bmo8PcobxzNYk+AStltMUjA==;EndpointSuffix=core.windows.net\"\n",
    "    \n",
    "def upload_all_data(data, connection_string = connection_string, container_name = 'teste1'):\n",
    "    container_client = ContainerClient.from_connection_string(connection_string, container_name)\n",
    "    print(container_client)\n",
    "    print('Fazendo Upload arquivos...')\n",
    "\n",
    "    for blob_name, blob_data in data.items():\n",
    "        blob_client = container_client.get_blob_client(blob_name)\n",
    "        blob_client.upload_blob(blob_data, overwrite = True)\n",
    "        print('Upload finalizado: {}'.format(blob_name))"
   ]
  },
  {
   "cell_type": "code",
   "execution_count": 110,
   "id": "f7b6a99b",
   "metadata": {},
   "outputs": [
    {
     "name": "stdout",
     "output_type": "stream",
     "text": [
      "[2022-09-23 17:50:38.039417]:[INFO] : Blob name: dadosNBA.json\n",
      "[2022-09-23 17:50:38.039417]:[INFO] : Downloading dadosNBA.json ...\n",
      "[2022-09-23 17:50:38.075403]:[INFO] : download finished\n"
     ]
    }
   ],
   "source": [
    "# faz dowload dos referente á NBA \n",
    "\n",
    "# cria as conexoes \n",
    "\n",
    "connection_string = \"DefaultEndpointsProtocol=https;AccountName=staengdados;AccountKey=KtfGJ/u3NWxqsFBksx2gR8hRVAcpV0lsVr9liYwsXJoTx68DIa2KtFVobhO6Ob3bmo8PcobxzNYk+AStltMUjA==;EndpointSuffix=core.windows.net\"\n",
    "container_name = \"teste1\"\n",
    "blob_service_client = BlobServiceClient.from_connection_string(connection_string)\n",
    "container_client = blob_service_client.get_container_client(container_name)\n",
    "\n",
    "\n",
    "# lista os arquivos do container\n",
    "\n",
    "blob_list = container_client.list_blobs()\n",
    "for blob in blob_list:\n",
    "    # So baixa se a extensao for json \n",
    "    if blob.name.split('.')[1].lower() != 'json':\n",
    "        continue\n",
    "    # captura os arquivos \n",
    "    blob_client = container_client.get_blob_client(blob.name)\n",
    "    # faz o dowload e normaliza \n",
    "    download_and_contain_blob(blob_client, blob.name)\n",
    "\n"
   ]
  },
  {
   "cell_type": "code",
   "execution_count": 111,
   "id": "01abab05",
   "metadata": {},
   "outputs": [
    {
     "name": "stdout",
     "output_type": "stream",
     "text": [
      "{'dadosNBA.csv': \"home_nome,home_city,tricode_home,rival_name,rival_city,tricode_rival_x,tricode_rival_y,cidade,local,dataEhora\\r\\nGolden State Warriors,Golden State,GSW,LA Clippers,LA,LAC,WAS,Tokyo,Saitama Super Arena,2022-09-30 6:00 AM ET\\r\\nRa'anana Maccabi Ra'anana,Ra'anana,MRA,Washington Wizards,Washington,WAS,LAC,Seattle,Climate Pledge Arena,2022-09-30 10:00 PM ET\\r\\n\"}\n"
     ]
    }
   ],
   "source": [
    "blob_texts = { k: v for k, v in blob_texts.items() if v } \n",
    "\n",
    "print(blob_texts)\n",
    "\n",
    "data_names = pd.DataFrame(list(blob_texts)).values"
   ]
  },
  {
   "cell_type": "code",
   "execution_count": 112,
   "id": "d04f45c4",
   "metadata": {},
   "outputs": [
    {
     "name": "stdout",
     "output_type": "stream",
     "text": [
      "[['[2022-09-23 17:50:42.227560]:[INFO] : Nome da Coleção de Dados: dadosNBA.csv']]\n"
     ]
    }
   ],
   "source": [
    "# VERIFICA SE A VARIAVEL POSSUI DADOS \n",
    "if blob_texts == {}:\n",
    "    print('Não há nenhum dado para ser utilizado!')\n",
    "else:\n",
    "    print('[{}]:[INFO] : Nome da Coleção de Dados: '.format(dt.datetime.utcnow()) + data_names)"
   ]
  },
  {
   "cell_type": "code",
   "execution_count": 113,
   "id": "f59b601e",
   "metadata": {},
   "outputs": [
    {
     "name": "stdout",
     "output_type": "stream",
     "text": [
      "<azure.storage.blob._container_client.ContainerClient object at 0x0000028A7BFF0F10>\n",
      "Fazendo Upload arquivos...\n",
      "Upload finalizado: dadosNBA.csv\n"
     ]
    }
   ],
   "source": [
    "upload_all_data(blob_texts)"
   ]
  },
  {
   "cell_type": "code",
   "execution_count": null,
   "id": "cb2c4932",
   "metadata": {},
   "outputs": [],
   "source": []
  }
 ],
 "metadata": {
  "kernelspec": {
   "display_name": "Python 3 (ipykernel)",
   "language": "python",
   "name": "python3"
  },
  "language_info": {
   "codemirror_mode": {
    "name": "ipython",
    "version": 3
   },
   "file_extension": ".py",
   "mimetype": "text/x-python",
   "name": "python",
   "nbconvert_exporter": "python",
   "pygments_lexer": "ipython3",
   "version": "3.9.12"
  }
 },
 "nbformat": 4,
 "nbformat_minor": 5
}
